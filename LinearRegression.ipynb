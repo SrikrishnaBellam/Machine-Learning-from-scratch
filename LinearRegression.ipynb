{
 "cells": [
  {
   "cell_type": "code",
   "execution_count": 8,
   "id": "57b26a9c",
   "metadata": {},
   "outputs": [],
   "source": [
    "import pandas as pd"
   ]
  },
  {
   "cell_type": "code",
   "execution_count": 26,
   "id": "2c1b0159",
   "metadata": {},
   "outputs": [],
   "source": [
    "import numpy as np\n",
    "from typing import Dict\n",
    "\n",
    "class LinearRegression:\n",
    "    #initializing the class\n",
    "    def __init__(self, learning_rate: float = 0.01):\n",
    "        self.parameters: Dict[str, float] = {}\n",
    "        self.learning_rate: float = learning_rate\n",
    "    \n",
    "    # for calculating MSE loss function\n",
    "    def cost_function(self, pred: np.ndarray, target: np.ndarray) -> float:\n",
    "        return float(np.mean((pred - target)**2))\n",
    "    \n",
    "    # straightforward forward propagation algorithm\n",
    "    def forward(self, inputs: np.ndarray) -> np.ndarray:\n",
    "        m = self.parameters['m']\n",
    "        b = self.parameters['b']\n",
    "        pred = np.multiply(m, inputs) + b\n",
    "        return pred\n",
    "    \n",
    "    def backpropagation(self, pred: np.ndarray, inputs: np.ndarray, targets: np.ndarray) -> Dict[str, float]:\n",
    "        db = 2 * np.mean(pred - targets)\n",
    "        dm = 2 * np.mean(np.multiply((pred - targets), inputs))\n",
    "        derivatives = {}\n",
    "        derivatives['dm'] = dm\n",
    "        derivatives['db'] = db\n",
    "        return derivatives\n",
    "    \n",
    "    def update_weights(self, derivatives: Dict[str, float]) -> None:\n",
    "        self.parameters['m'] -= self.learning_rate*derivatives['dm']\n",
    "        self.parameters['b'] -= self.learning_rate*derivatives['db']\n",
    "\n",
    "    def train(self, epochs: int, inputs: np.ndarray, targets: np.ndarray) -> None:\n",
    "        self.parameters['m'], self.parameters['b'] = float(np.random.uniform(0, 1)*-1), float(np.random.uniform(0, 1)*-1)\n",
    "        self.loss = []\n",
    "\n",
    "        for i in range(epochs+1):\n",
    "            preds = self.forward(inputs=inputs)\n",
    "            cost = self.cost_function(pred=preds, target=targets)\n",
    "            derivatives = self.backpropagation(pred=preds, inputs=inputs, targets=targets)\n",
    "            self.update_weights(derivatives=derivatives)\n",
    "            self.loss.append(cost)\n",
    "            if i%5 == 0:\n",
    "                print(f\"Epoch: {i}, loss: {cost}\")\n",
    "        return self.parameters, self.loss\n",
    "\n",
    "\n",
    "    \n",
    "    "
   ]
  },
  {
   "cell_type": "code",
   "execution_count": 27,
   "id": "87e7deac",
   "metadata": {},
   "outputs": [],
   "source": [
    "url = 'https://media.geeksforgeeks.org/wp-content/uploads/20240320114716/data_for_lr.csv'\n",
    "data = pd.read_csv(url)\n"
   ]
  },
  {
   "cell_type": "code",
   "execution_count": 28,
   "id": "141b75af",
   "metadata": {},
   "outputs": [],
   "source": [
    "data = data.dropna()\n",
    "train_input = np.array(data.x[0:500]).reshape(500,1)\n",
    "train_target = np.array(data.y[0:500]).reshape(500,1)\n",
    "\n",
    "test_input = np.array(data.x[500:700]).reshape(199,1)\n",
    "test_target = np.array(data.y[500:700]).reshape(199,1)"
   ]
  },
  {
   "cell_type": "code",
   "execution_count": 29,
   "id": "b68fe3a9",
   "metadata": {},
   "outputs": [
    {
     "name": "stdout",
     "output_type": "stream",
     "text": [
      "Epoch: 0, loss: 9622.455302351731\n",
      "Epoch: 5, loss: 4902.491909917839\n",
      "Epoch: 10, loss: 2499.627565767208\n",
      "Epoch: 15, loss: 1276.3644646593866\n",
      "Epoch: 20, loss: 653.6191073308278\n",
      "Epoch: 25, loss: 336.5885521192176\n",
      "Epoch: 30, loss: 175.19293226392256\n",
      "Epoch: 35, loss: 93.02878218253457\n",
      "Epoch: 40, loss: 51.20021477840086\n",
      "Epoch: 45, loss: 29.905902696759533\n",
      "Epoch: 50, loss: 19.06527973182835\n",
      "Epoch: 55, loss: 13.546477034182825\n",
      "Epoch: 60, loss: 10.736935214789016\n",
      "Epoch: 65, loss: 9.306638491580685\n",
      "Epoch: 70, loss: 8.57849527844102\n",
      "Epoch: 75, loss: 8.207808149841757\n",
      "Epoch: 80, loss: 8.019096686882332\n",
      "Epoch: 85, loss: 7.923026374312695\n",
      "Epoch: 90, loss: 7.874118316738322\n",
      "Epoch: 95, loss: 7.849219873541926\n",
      "Epoch: 100, loss: 7.836544373941298\n"
     ]
    }
   ],
   "source": [
    "lr =LinearRegression(0.00001)\n",
    "param , loss = lr.train(100, train_input, train_target)"
   ]
  },
  {
   "cell_type": "code",
   "execution_count": null,
   "id": "c25fab30",
   "metadata": {},
   "outputs": [],
   "source": []
  },
  {
   "cell_type": "code",
   "execution_count": null,
   "id": "185d4440",
   "metadata": {},
   "outputs": [],
   "source": []
  }
 ],
 "metadata": {
  "kernelspec": {
   "display_name": "Python 3",
   "language": "python",
   "name": "python3"
  },
  "language_info": {
   "codemirror_mode": {
    "name": "ipython",
    "version": 3
   },
   "file_extension": ".py",
   "mimetype": "text/x-python",
   "name": "python",
   "nbconvert_exporter": "python",
   "pygments_lexer": "ipython3",
   "version": "3.11.9"
  }
 },
 "nbformat": 4,
 "nbformat_minor": 5
}
