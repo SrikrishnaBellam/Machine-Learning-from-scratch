{
 "cells": [
  {
   "cell_type": "code",
   "execution_count": null,
   "id": "db3d3635",
   "metadata": {},
   "outputs": [],
   "source": [
    "'''Note: only the perceptron code is coded by self.'''"
   ]
  },
  {
   "cell_type": "code",
   "execution_count": 1,
   "id": "b1db085f",
   "metadata": {},
   "outputs": [],
   "source": [
    "import numpy as np"
   ]
  },
  {
   "cell_type": "code",
   "execution_count": 14,
   "id": "934700b7",
   "metadata": {},
   "outputs": [],
   "source": [
    "class Perceptron:\n",
    "    def __init__(self, learning_rate = 0.001, epochs = 50):\n",
    "        self.learning_rate = learning_rate\n",
    "        self.epochs = epochs\n",
    "        self.param = {}\n",
    "        self.errors = 0\n",
    "    \n",
    "    def forward(self, inputs):\n",
    "        pred = np.sign(np.dot(inputs, self.param['w']) + self.param['b'])\n",
    "        return pred\n",
    "    \n",
    "    def loss_updates(self, inputs, targets, preds):\n",
    "        derivatives = {}\n",
    "        if targets*preds <= 0:\n",
    "            derivatives = {'w': targets*inputs, 'b': targets}\n",
    "            self.errors += 1\n",
    "        else:\n",
    "            derivatives = {'w': np.zeros_like(self.param['w']), 'b': 0}\n",
    "        return derivatives\n",
    "    \n",
    "    def update_parameters(self, derivatives):\n",
    "        self.param['w'] += self.learning_rate*derivatives['w']\n",
    "        self.param['b'] += self.learning_rate*derivatives['b']\n",
    "\n",
    "    def train(self, inputs, targets):\n",
    "        inputs = np.asarray(inputs)\n",
    "        targets = np.asarray(targets)\n",
    "        m, n = inputs.shape\n",
    "        self.param = {'w': np.zeros(n), 'b': 0.0}\n",
    "\n",
    "        for epoch in range(self.epochs):\n",
    "            self.errors = 0\n",
    "            for i in range(m):\n",
    "                pred = self.forward(inputs[i])\n",
    "                derivative = self.loss_updates(inputs[i], targets[i], pred)\n",
    "                self.update_parameters(derivative)\n",
    "\n",
    "            if epoch%5 == 0:\n",
    "                print(f\"Epoch: {epoch}, errors: {self.errors}\")\n",
    "            if self.errors == 0:\n",
    "                print(\"Converged\")\n",
    "                break\n",
    "    \n",
    "    def predict(self, X):\n",
    "        return self.forward(X)"
   ]
  },
  {
   "cell_type": "code",
   "execution_count": 15,
   "id": "f7ce3fdd",
   "metadata": {},
   "outputs": [
    {
     "name": "stdout",
     "output_type": "stream",
     "text": [
      "Epoch: 0, errors: 2\n",
      "Converged\n",
      "Predictions: [-1. -1. -1.  1.]\n"
     ]
    }
   ],
   "source": [
    "# Simple dataset (AND gate)\n",
    "X = np.array([\n",
    "    [0, 0],\n",
    "    [0, 1],\n",
    "    [1, 0],\n",
    "    [1, 1]\n",
    "])\n",
    "y = np.array([-1, -1, -1, +1])  # AND outputs: only last one is +1\n",
    "\n",
    "# Train\n",
    "p = Perceptron(learning_rate=0.1, epochs=10)\n",
    "p.train(X, y)\n",
    "\n",
    "# Test\n",
    "print(\"Predictions:\", p.predict(X))\n"
   ]
  },
  {
   "cell_type": "code",
   "execution_count": 16,
   "id": "d1e1fd1f",
   "metadata": {},
   "outputs": [
    {
     "name": "stdout",
     "output_type": "stream",
     "text": [
      "Epoch: 0, errors: 3\n",
      "Epoch: 5, errors: 0\n",
      "Converged\n",
      "Predictions: [-1.  1.  1.  1.]\n"
     ]
    }
   ],
   "source": [
    "X = np.array([\n",
    "    [0, 0],\n",
    "    [0, 1],\n",
    "    [1, 0],\n",
    "    [1, 1]\n",
    "])\n",
    "y = np.array([-1, +1, +1, +1])\n",
    "\n",
    "p = Perceptron(learning_rate=0.1, epochs=20)\n",
    "p.train(X, y)\n",
    "\n",
    "print(\"Predictions:\", p.predict(X))\n"
   ]
  },
  {
   "cell_type": "code",
   "execution_count": 17,
   "id": "35b38747",
   "metadata": {},
   "outputs": [
    {
     "name": "stdout",
     "output_type": "stream",
     "text": [
      "Epoch: 0, errors: 3\n",
      "Epoch: 5, errors: 2\n",
      "Epoch: 10, errors: 0\n",
      "Converged\n",
      "Predictions: [ 1. -1.  1.  1.  1.  1.  1.  1.  1.  1.  1.  1.  1.  1.  1.  1.  1.  1.\n",
      "  1.  1.]\n"
     ]
    }
   ],
   "source": [
    "# Generate points\n",
    "X = np.random.rand(20, 2) * 4  # 20 random points in [0,4]×[0,4]\n",
    "# Define diagonal line y = 2x1 + x2 - 3 = 0\n",
    "y = np.where(2*X[:,0] + X[:,1] - 3 >= 0, +1, -1)\n",
    "\n",
    "p = Perceptron(learning_rate=0.01, epochs=50)\n",
    "p.train(X, y)\n",
    "\n",
    "print(\"Predictions:\", p.predict(X))\n"
   ]
  },
  {
   "cell_type": "code",
   "execution_count": 18,
   "id": "706c6092",
   "metadata": {},
   "outputs": [
    {
     "name": "stdout",
     "output_type": "stream",
     "text": [
      "[ 1 -1  1  1  1  1  1  1  1  1  1  1  1  1  1  1  1  1  1  1]\n"
     ]
    }
   ],
   "source": [
    "print(y)"
   ]
  },
  {
   "cell_type": "code",
   "execution_count": 26,
   "id": "27f310f6",
   "metadata": {},
   "outputs": [
    {
     "name": "stdout",
     "output_type": "stream",
     "text": [
      "Epoch: 0, errors: 2\n",
      "Converged\n",
      "Predictions: [-1. -1. -1.  1.  1.  1.]\n"
     ]
    }
   ],
   "source": [
    "X = np.array([\n",
    "    [1, 1],\n",
    "    [1, 2],\n",
    "    [1, 3],\n",
    "    [3, 1],\n",
    "    [3, 2],\n",
    "    [3, 3]\n",
    "])\n",
    "y = np.array([-1, -1, -1, +1, +1, +1])  # separated by x1 = 2\n",
    "\n",
    "p = Perceptron(learning_rate=0.1, epochs=20)\n",
    "p.train(X, y)\n",
    "\n",
    "print(\"Predictions:\", p.predict(X))\n",
    "\n"
   ]
  },
  {
   "cell_type": "code",
   "execution_count": 27,
   "id": "8027766f",
   "metadata": {},
   "outputs": [
    {
     "data": {
      "image/png": "[encoded data removed]",
      "text/plain": [
       "<Figure size 600x600 with 1 Axes>"
      ]
     },
     "metadata": {},
     "output_type": "display_data"
    }
   ],
   "source": [
    "import matplotlib.pyplot as plt\n",
    "import numpy as np\n",
    "\n",
    "# Scatter plot of training points\n",
    "plt.figure(figsize=(6,6))\n",
    "plt.title(\"Vertical Split Dataset and Perceptron Decision Boundary\")\n",
    "plt.xlabel(\"x₁ (feature 1)\")\n",
    "plt.ylabel(\"x₂ (feature 2)\")\n",
    "\n",
    "# Plot data points by class\n",
    "plt.scatter(X[y==-1][:,0], X[y==-1][:,1], color='red', label='Class -1')\n",
    "plt.scatter(X[y==1][:,0],  X[y==1][:,1],  color='blue', label='Class +1')\n",
    "\n",
    "# Create decision boundary line from w₁x₁ + w₂x₂ + b = 0\n",
    "x1_vals = np.linspace(0, 4, 100)\n",
    "\n",
    "# Avoid divide-by-zero if w₂ = 0\n",
    "if p.param['w'][1] != 0:\n",
    "    x2_vals = -(p.param['w'][0]*x1_vals + p.param['b']) / p.param['w'][1]\n",
    "    plt.plot(x1_vals, x2_vals, 'k--', label='Decision boundary')\n",
    "else:\n",
    "    # If it's a vertical boundary, plot vertical line at -b/w1\n",
    "    x_vertical = -p.param['b'] / p.param['w'][0]\n",
    "    plt.axvline(x=x_vertical, color='k', linestyle='--', label='Decision boundary')\n",
    "\n",
    "plt.legend()\n",
    "plt.grid(True)\n",
    "plt.show()\n"
   ]
  },
  {
   "cell_type": "code",
   "execution_count": 20,
   "id": "52173314",
   "metadata": {},
   "outputs": [
    {
     "name": "stdout",
     "output_type": "stream",
     "text": [
      "Epoch: 0, errors: 5\n",
      "Converged\n",
      "Training accuracy: 100.0%\n"
     ]
    }
   ],
   "source": [
    "np.random.seed(42)\n",
    "X = np.random.randn(30, 2)  # 30 points\n",
    "true_w = np.array([1.5, -2.0])\n",
    "true_b = 0.3\n",
    "\n",
    "# Generate labels\n",
    "y = np.sign(np.dot(X, true_w) + true_b)\n",
    "\n",
    "p = Perceptron(learning_rate=0.05, epochs=30)\n",
    "p.train(X, y)\n",
    "\n",
    "preds = p.predict(X)\n",
    "accuracy = np.mean(preds == y)\n",
    "print(f\"Training accuracy: {accuracy*100:.1f}%\")\n"
   ]
  },
  {
   "cell_type": "code",
   "execution_count": 21,
   "id": "0d80db7a",
   "metadata": {},
   "outputs": [
    {
     "name": "stdout",
     "output_type": "stream",
     "text": [
      "Epoch: 0, errors: 4\n",
      "Epoch: 5, errors: 4\n",
      "Epoch: 10, errors: 4\n",
      "Epoch: 15, errors: 4\n",
      "Predictions: [0. 0. 0. 0.]\n"
     ]
    }
   ],
   "source": [
    "X = np.array([\n",
    "    [0, 0],\n",
    "    [0, 1],\n",
    "    [1, 0],\n",
    "    [1, 1]\n",
    "])\n",
    "y = np.array([-1, +1, +1, -1])  # XOR pattern\n",
    "\n",
    "p = Perceptron(learning_rate=0.1, epochs=20)\n",
    "p.train(X, y)\n",
    "\n",
    "print(\"Predictions:\", p.predict(X))\n"
   ]
  },
  {
   "cell_type": "code",
   "execution_count": null,
   "id": "d8c90b38",
   "metadata": {},
   "outputs": [],
   "source": []
  }
 ],
 "metadata": {
  "kernelspec": {
   "display_name": "Python 3",
   "language": "python",
   "name": "python3"
  },
  "language_info": {
   "codemirror_mode": {
    "name": "ipython",
    "version": 3
   },
   "file_extension": ".py",
   "mimetype": "text/x-python",
   "name": "python",
   "nbconvert_exporter": "python",
   "pygments_lexer": "ipython3",
   "version": "3.11.9"
  }
 },
 "nbformat": 4,
 "nbformat_minor": 5
}
