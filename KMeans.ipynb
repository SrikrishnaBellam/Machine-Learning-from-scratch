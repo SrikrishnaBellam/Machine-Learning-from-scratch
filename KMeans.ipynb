{
 "cells": [
  {
   "cell_type": "code",
   "execution_count": 1,
   "id": "a7b6233d",
   "metadata": {},
   "outputs": [],
   "source": [
    "import numpy as np\n",
    "from typing import List, Tuple\n",
    "from numpy.typing import NDArray"
   ]
  },
  {
   "cell_type": "code",
   "execution_count": 4,
   "id": "43976790",
   "metadata": {},
   "outputs": [],
   "source": [
    "class KMeans:\n",
    "    def __init__(self, k: int = 3):\n",
    "        self.k: int = k\n",
    "        self.X_train: NDArray[np.float_] | None = None\n",
    "        self.centroids: NDArray[np.float_] | None = None\n",
    "    \n",
    "    def _create_clusters(self, centroids: List[float] | NDArray[np.float_]):\n",
    "        distances = np.zeros((self.X_train.shape[0], self.k))\n",
    "        for i in range(self.k):\n",
    "            distances[:, i] = np.linalg.norm(self.X_train - centroids[i], axis=1)\n",
    "        return np.argmin(distances, axis=1)\n",
    "    \n",
    "    def fit(self, X: NDArray[np.float_], max_iters: int = 100, tol: float = 1e-4):\n",
    "        self.X_train = np.array(X)\n",
    "        n_samples, n_features = self.X_train.shape\n",
    "        random_indices = np.random.choice(n_samples, self.k, replace=False)\n",
    "        self.centroids = self.X_train[random_indices]\n",
    "\n",
    "        for _ in range(max_iters):\n",
    "            clusters = self._create_clusters(self.centroids)\n",
    "            new_centroids = np.array([self.X_train[clusters == i].mean(axis=0) for i in range(self.k)])\n",
    "            diff = np.linalg.norm(new_centroids - self.centroids)\n",
    "            if diff < tol:\n",
    "                break\n",
    "            self.centroids = new_centroids\n",
    "        self.labels_ = clusters\n",
    "    \n",
    "    def predict(self, X:NDArray[np.float_]):\n",
    "        X = np.asarray(X)\n",
    "        distances = np.zeros((X.shape[0], self.k))\n",
    "        for i in range(self.k):\n",
    "            distances[:, i] = np.linalg.norm(X - self.centroids[i], axis=1)\n",
    "        return np.argmin(distances, axis=1)"
   ]
  },
  {
   "cell_type": "code",
   "execution_count": null,
   "id": "3a146b22",
   "metadata": {},
   "outputs": [
    {
     "name": "stdout",
     "output_type": "stream",
     "text": [
      "Scratch KMeans ARI: 0.7163\n",
      "Sklearn KMeans ARI: 0.7302\n"
     ]
    },
    {
     "ename": "",
     "evalue": "",
     "output_type": "error",
     "traceback": [
      "\u001b[1;31mThe Kernel crashed while executing code in the current cell or a previous cell. \n",
      "\u001b[1;31mPlease review the code in the cell(s) to identify a possible cause of the failure. \n",
      "\u001b[1;31mClick <a href='https://aka.ms/vscodeJupyterKernelCrash'>here</a> for more info. \n",
      "\u001b[1;31mView Jupyter <a href='command:jupyter.viewOutput'>log</a> for further details."
     ]
    }
   ],
   "source": [
    "from sklearn.datasets import load_iris\n",
    "from sklearn.cluster import KMeans as SKKMeans\n",
    "from sklearn.metrics import adjusted_rand_score\n",
    "\n",
    "iris = load_iris()\n",
    "X, y = iris.data, iris.target\n",
    "\n",
    "my_kmeans = KMeans(k=3)\n",
    "my_kmeans.fit(X)\n",
    "\n",
    "sk_kmeans = SKKMeans(n_clusters=3, n_init=10, random_state=42)\n",
    "sk_kmeans.fit(X)\n",
    "\n",
    "ari_scratch = adjusted_rand_score(y, my_kmeans.labels_)\n",
    "ari_lib = adjusted_rand_score(y, sk_kmeans.labels_)\n",
    "\n",
    "print(\"Scratch KMeans ARI:\", round(ari_scratch, 4))\n",
    "print(\"Sklearn KMeans ARI:\", round(ari_lib, 4))\n"
   ]
  },
  {
   "cell_type": "code",
   "execution_count": null,
   "id": "46019828",
   "metadata": {},
   "outputs": [],
   "source": []
  }
 ],
 "metadata": {
  "kernelspec": {
   "display_name": "Python 3",
   "language": "python",
   "name": "python3"
  },
  "language_info": {
   "codemirror_mode": {
    "name": "ipython",
    "version": 3
   },
   "file_extension": ".py",
   "mimetype": "text/x-python",
   "name": "python",
   "nbconvert_exporter": "python",
   "pygments_lexer": "ipython3",
   "version": "3.11.9"
  }
 },
 "nbformat": 4,
 "nbformat_minor": 5
}
