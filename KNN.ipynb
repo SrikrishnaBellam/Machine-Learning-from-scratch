{
 "cells": [
  {
   "cell_type": "code",
   "execution_count": 6,
   "id": "d08e1da3",
   "metadata": {},
   "outputs": [],
   "source": [
    "import numpy as np\n",
    "from typing import Dict, List, Any, Tuple\n",
    "from numpy.typing import NDArray"
   ]
  },
  {
   "cell_type": "code",
   "execution_count": 27,
   "id": "d10bb090",
   "metadata": {},
   "outputs": [],
   "source": [
    "class KNearestNeighbor:\n",
    "    def __init__(self, k: int = 3, distance: str = \"euclidean\"):\n",
    "        self.k: int = k\n",
    "        self.distance: str = distance\n",
    "        self.X_train: NDArray[np.float_] | None = None\n",
    "        self.y_train: NDArray[np.float_] | None = None\n",
    "    \n",
    "    def _compute_distance(self, x1: NDArray[np.float_], x2: NDArray[np.float_]) -> float:\n",
    "        if self.distance == 'euclidean':\n",
    "            return float(np.sqrt(np.sum((x1 - x2)**2)))\n",
    "        elif self.distance == \"manhattan\":\n",
    "            return float(np.abs(x1-x2))\n",
    "        else:\n",
    "            raise ValueError(\"Unsupported distance type\")\n",
    "    \n",
    "    def _get_neighbors(self, x: NDArray[np.float_]) -> NDArray[np.float_]:\n",
    "        distances = [self._compute_distance(x, x_train) for x_train in self.X_train]\n",
    "        top_neighbors_ind = np.argsort(distances)[:self.k]\n",
    "        return top_neighbors_ind\n",
    "    \n",
    "    def _counter(self, Data: List[Any]) -> Dict[Any, int]:\n",
    "        freq: Dict[Any, int] = {}\n",
    "        for item in Data:\n",
    "            freq[item] = freq.get(item, 0) + 1\n",
    "        return freq\n",
    "    \n",
    "    def _most_common(self, freq: Dict[Any, int], n: int = 1) -> List[Tuple[Any, int]]:\n",
    "        return sorted(freq.items(), key=lambda kv: (-kv[1], kv[0]))[:1]\n",
    "    \n",
    "    def fit(self, X_train: List[float] | NDArray[np.float_], y_train: List[float] | NDArray[np.float_]) -> None:\n",
    "        self.X_train = np.asarray(X_train, dtype= float)\n",
    "        self.y_train = np.asarray(y_train)\n",
    "        if self.X_train.shape[0] != self.y_train.shape[0]:\n",
    "            raise ValueError(\"X and y must have the same shape\")\n",
    "    \n",
    "    def predict_one(self, x: NDArray[np.float_]):\n",
    "        neighbors_ind = self._get_neighbors(x)\n",
    "        neighbors_labels = [self.y_train[i] for i in neighbors_ind]\n",
    "        freq = self._counter(neighbors_labels)\n",
    "        top = self._most_common(freq)\n",
    "        if not top:\n",
    "            return neighbors_labels[0]\n",
    "        label, _ = top[0]\n",
    "        return label\n",
    "\n",
    "    def predict(self, X_train:NDArray[np.float_]) -> NDArray[Any]:\n",
    "        X_train = np.asarray(X_train, dtype=float)\n",
    "        return np.array([self.predict_one(x_train) for x_train in X_train])\n"
   ]
  },
  {
   "cell_type": "code",
   "execution_count": 28,
   "id": "a6d7097d",
   "metadata": {},
   "outputs": [
    {
     "name": "stdout",
     "output_type": "stream",
     "text": [
      "Scratch KNN Accuracy: 1.0\n",
      "Scratch KNN Accuracy: 1.0\n"
     ]
    }
   ],
   "source": [
    "from sklearn.datasets import load_iris\n",
    "from sklearn.model_selection import train_test_split\n",
    "from sklearn.neighbors import KNeighborsClassifier\n",
    "from sklearn.metrics import accuracy_score\n",
    "\n",
    "iris = load_iris()\n",
    "X,y = iris.data, iris.target\n",
    "\n",
    "X_train, X_test, y_train, y_test = train_test_split(X, y, test_size = 0.2, random_state = 42)\n",
    "\n",
    "my_knn = KNearestNeighbor(k=5)\n",
    "my_knn.fit(X_train, y_train)\n",
    "y_pred_scratch = my_knn.predict(X_test)\n",
    "\n",
    "sk_knn = KNeighborsClassifier(n_neighbors=5)\n",
    "sk_knn.fit(X_train, y_train)\n",
    "y_pred_lib = sk_knn.predict(X_test)\n",
    "\n",
    "\n",
    "print(\"Scratch KNN Accuracy:\", accuracy_score(y_test, y_pred_scratch))\n",
    "print(\"Scratch KNN Accuracy:\", accuracy_score(y_test, y_pred_lib))"
   ]
  },
  {
   "cell_type": "code",
   "execution_count": null,
   "id": "b439022d",
   "metadata": {},
   "outputs": [],
   "source": []
  },
  {
   "cell_type": "code",
   "execution_count": null,
   "id": "4d6f39f1",
   "metadata": {},
   "outputs": [],
   "source": []
  }
 ],
 "metadata": {
  "kernelspec": {
   "display_name": "Python 3",
   "language": "python",
   "name": "python3"
  },
  "language_info": {
   "codemirror_mode": {
    "name": "ipython",
    "version": 3
   },
   "file_extension": ".py",
   "mimetype": "text/x-python",
   "name": "python",
   "nbconvert_exporter": "python",
   "pygments_lexer": "ipython3",
   "version": "3.11.9"
  }
 },
 "nbformat": 4,
 "nbformat_minor": 5
}
