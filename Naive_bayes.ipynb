{
 "cells": [
  {
   "cell_type": "code",
   "execution_count": 2,
   "id": "52d9fede",
   "metadata": {},
   "outputs": [],
   "source": [
    "import numpy as np"
   ]
  },
  {
   "cell_type": "code",
   "execution_count": 3,
   "id": "cbe8f2fd",
   "metadata": {},
   "outputs": [],
   "source": [
    "def _softmax(logits):\n",
    "    logits = logits - np.max(logits, axis=1, keepdims=True)\n",
    "    exps = np.exp(logits)\n",
    "    return exps/np.sum(exps, axis=1, keepdims=True)\n",
    "\n",
    "def _to_int_labels(y):\n",
    "    y = np.asarray(y).astype(int)\n",
    "    if y.ndim!=1:\n",
    "        y.ravel()\n",
    "    return y"
   ]
  },
  {
   "cell_type": "code",
   "execution_count": 8,
   "id": "d805a307",
   "metadata": {},
   "outputs": [],
   "source": [
    "class NaiveBayes:\n",
    "    def __init__(self, model_type=\"gaussian\", var_smoothing=1e-9, alpha = 1.0):\n",
    "        self.model_type = model_type\n",
    "        self.var_smoothing = var_smoothing\n",
    "        self.alpha = alpha\n",
    "        self.classes = None\n",
    "        self.class_priori_log = None\n",
    "        self.theta_ = None\n",
    "        self.var_ = None\n",
    "        self.feature_log_prob = None\n",
    "    \n",
    "    def fit(self, train_input, train_output):\n",
    "        train_input = np.asarray(train_input)\n",
    "        train_output = np.asarray(train_output)\n",
    "        self.classes, out_indices = np.unique(train_output, return_inverse=True)\n",
    "        k = len(self.classes)\n",
    "        n_feature = train_input.shape[1]\n",
    "        class_counts = np.bincount(out_indices, minlength=k)\n",
    "        prior = class_counts/class_counts.sum()\n",
    "        self.class_priori_log = np.log(prior+1e-15)\n",
    "\n",
    "        if self.model_type == \"gaussian\":\n",
    "            self.theta_ = np.zeros((k, n_feature))\n",
    "            self.var_ = np.zeros((k, n_feature))\n",
    "            for k_idx, K in enumerate(self.classes):\n",
    "                train_input_k = train_input[train_output==K]\n",
    "                self.theta_[k_idx] = train_input_k.mean(axis=0)\n",
    "                self.var_[k_idx] = train_input_k.var(axis=0)\n",
    "        return self\n",
    "    \n",
    "    def _joint_log_likelihood(self, X):\n",
    "        X = np.asarray(X)\n",
    "        K = len(self.classes)\n",
    "        if self.model_type==\"gaussian\":\n",
    "            log_prob = []\n",
    "            for k in range(K):\n",
    "                mu, var = self.theta_[k], self.var_[k]\n",
    "                a = -0.5 * np.log(2.0*np.pi*var)\n",
    "                b = -0.5 * ((X-mu)**2/var)\n",
    "                log_px_given_y = np.sum(a+b, axis=1)\n",
    "                log_prob.append(self.class_priori_log[k] + log_px_given_y)\n",
    "            return np.column_stack(log_prob)\n",
    "    \n",
    "    def predict_prob(self, X):\n",
    "        ll = self._joint_log_likelihood(X)\n",
    "        return _softmax(ll)\n",
    "\n",
    "    def predict(self, X):\n",
    "        ll = self._joint_log_likelihood(X)\n",
    "        return self.classes[np.argmax(ll, axis=1)]\n",
    "    \n",
    "    def accuracy(self, X, y):\n",
    "        y = _to_int_labels(y)\n",
    "        return np.mean(self.predict(X) == y)*100.0"
   ]
  },
  {
   "cell_type": "code",
   "execution_count": 9,
   "id": "0544007b",
   "metadata": {},
   "outputs": [
    {
     "name": "stdout",
     "output_type": "stream",
     "text": [
      "Train Accuracy: 93.62637362637362\n",
      "Test Accuracy: 96.49122807017544\n"
     ]
    }
   ],
   "source": [
    "from sklearn.datasets import load_breast_cancer\n",
    "from sklearn.model_selection import train_test_split\n",
    "from sklearn.preprocessing import StandardScaler\n",
    "\n",
    "data = load_breast_cancer()\n",
    "X, y = data.data, data.target\n",
    "X = StandardScaler().fit_transform(X)\n",
    "\n",
    "Xtr, Xte, ytr, yte = train_test_split(X, y, test_size=0.2, random_state=42)\n",
    "\n",
    "nb = NaiveBayes(model_type=\"gaussian\")\n",
    "nb.fit(Xtr, ytr)\n",
    "print(\"Train Accuracy:\", nb.accuracy(Xtr, ytr))\n",
    "print(\"Test Accuracy:\", nb.accuracy(Xte, yte))\n"
   ]
  },
  {
   "cell_type": "code",
   "execution_count": null,
   "id": "05c58d79",
   "metadata": {},
   "outputs": [],
   "source": []
  }
 ],
 "metadata": {
  "kernelspec": {
   "display_name": "Python 3",
   "language": "python",
   "name": "python3"
  },
  "language_info": {
   "codemirror_mode": {
    "name": "ipython",
    "version": 3
   },
   "file_extension": ".py",
   "mimetype": "text/x-python",
   "name": "python",
   "nbconvert_exporter": "python",
   "pygments_lexer": "ipython3",
   "version": "3.11.9"
  }
 },
 "nbformat": 4,
 "nbformat_minor": 5
}
